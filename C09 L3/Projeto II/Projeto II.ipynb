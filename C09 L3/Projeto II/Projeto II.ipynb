{
 "cells": [
  {
   "cell_type": "markdown",
   "id": "4367ec0d",
   "metadata": {},
   "source": [
    "# Projeto II"
   ]
  },
  {
   "cell_type": "markdown",
   "id": "0098f921",
   "metadata": {},
   "source": [
    "- Bibliotecas utilizadas"
   ]
  },
  {
   "cell_type": "code",
   "execution_count": 1,
   "id": "d7959cf8",
   "metadata": {},
   "outputs": [],
   "source": [
    "import moviepy.editor as mpe\n",
    "from moviepy.editor import *\n",
    "import numpy as np\n",
    "import matplotlib.pyplot as plt\n",
    "import sounddevice as sd\n",
    "from scipy.io import wavfile"
   ]
  },
  {
   "cell_type": "markdown",
   "id": "4429cae5",
   "metadata": {},
   "source": [
    "- Vídeo original"
   ]
  },
  {
   "cell_type": "code",
   "execution_count": 2,
   "id": "31e6cd70",
   "metadata": {},
   "outputs": [],
   "source": [
    "video_original = mpe.VideoFileClip(\"Frieren.mp4\")"
   ]
  },
  {
   "cell_type": "markdown",
   "id": "d087f50a",
   "metadata": {},
   "source": [
    "- Teste do vídeo"
   ]
  },
  {
   "cell_type": "code",
   "execution_count": null,
   "id": "4a3afebb",
   "metadata": {},
   "outputs": [],
   "source": [
    "video_original.ipython_display(width=480, maxduration=180)"
   ]
  },
  {
   "cell_type": "markdown",
   "id": "4f6789e1",
   "metadata": {},
   "source": [
    "- Áudio original"
   ]
  },
  {
   "cell_type": "code",
   "execution_count": 3,
   "id": "055923a7",
   "metadata": {},
   "outputs": [],
   "source": [
    "audio_original = mpe.AudioFileClip(\"Audio-original.wav\")"
   ]
  },
  {
   "cell_type": "markdown",
   "id": "b5c5da1f",
   "metadata": {},
   "source": [
    "- Colocando o áudio no vídeo"
   ]
  },
  {
   "cell_type": "code",
   "execution_count": null,
   "id": "28a510de",
   "metadata": {},
   "outputs": [],
   "source": [
    "video_modf = video_original.set_audio(audio_original)\n",
    "video_modf.write_videofile('Video_com_audio.mp4')"
   ]
  },
  {
   "cell_type": "markdown",
   "id": "bb43c830",
   "metadata": {},
   "source": [
    "- Teste do vídeo com áudio"
   ]
  },
  {
   "cell_type": "code",
   "execution_count": null,
   "id": "e081f29d",
   "metadata": {},
   "outputs": [],
   "source": [
    "video_modf.ipython_display(width=480, maxduration=180)"
   ]
  },
  {
   "cell_type": "markdown",
   "id": "97cc2308",
   "metadata": {},
   "source": [
    "- Invertendo a cada 20s"
   ]
  },
  {
   "cell_type": "code",
   "execution_count": 5,
   "id": "1a3d67e8",
   "metadata": {},
   "outputs": [],
   "source": [
    "# Função que espelha o vídeo a cada 20 segundos\n",
    "def flip_every_20s(get_frame, t):\n",
    "    frame = get_frame(t)\n",
    "    invertido = int(t / 20) % 2 == 1  # alterna a cada 20 segundos\n",
    "    if invertido:\n",
    "        return frame[:, ::-1]  # espelhamento horizontal\n",
    "    else:\n",
    "        return frame\n",
    "    \n",
    "video_modf_inv = video_modf.fl(flip_every_20s)"
   ]
  },
  {
   "cell_type": "markdown",
   "id": "96014754",
   "metadata": {},
   "source": [
    "- Teste no vídeo invertido horizontalmente"
   ]
  },
  {
   "cell_type": "code",
   "execution_count": null,
   "id": "26864096",
   "metadata": {},
   "outputs": [],
   "source": [
    "video_modf_inv.ipython_display(width=480, maxduration=180)"
   ]
  },
  {
   "cell_type": "markdown",
   "id": "b38b2784",
   "metadata": {},
   "source": [
    "- Diminuindo o som"
   ]
  },
  {
   "cell_type": "code",
   "execution_count": 6,
   "id": "b7f4b252",
   "metadata": {},
   "outputs": [],
   "source": [
    "duration = video_modf_inv.duration\n",
    "audio_video = video_modf_inv.audio\n",
    "\n",
    "def decrease(t):\n",
    "    if np.isscalar(t):\n",
    "        frame = audio_video.get_frame(t)\n",
    "        if t >= duration - 10:\n",
    "            volume = 0.0\n",
    "        else:\n",
    "            step = int(t // 30)\n",
    "            volume = max(1.0 - 0.2 * step, 0.0)\n",
    "        return frame * volume\n",
    "    else:\n",
    "        return np.array([decrease(ti) for ti in t])\n",
    "\n",
    "\n",
    "new_audio = AudioClip(make_frame=decrease, duration=duration, fps=44100)\n",
    "\n",
    "video_modf_inv_dim = video_modf_inv.set_audio(new_audio)"
   ]
  },
  {
   "cell_type": "markdown",
   "id": "fcb3e662",
   "metadata": {},
   "source": [
    "- Teste do som diminuindo"
   ]
  },
  {
   "cell_type": "code",
   "execution_count": null,
   "id": "32031796",
   "metadata": {},
   "outputs": [],
   "source": [
    "video_modf_inv_dim.ipython_display(width=480, maxduration=180)"
   ]
  },
  {
   "cell_type": "markdown",
   "id": "e34dc850",
   "metadata": {},
   "source": [
    "- Colocando o corte no vídeo"
   ]
  },
  {
   "cell_type": "code",
   "execution_count": null,
   "id": "18e23caf",
   "metadata": {},
   "outputs": [],
   "source": [
    "part_1 = video_modf_inv_dim.subclip(0, 60)\n",
    "part_2 = video_modf_inv_dim.subclip(80)\n",
    "part_3 = video_modf_inv_dim.subclip(60, 80)\n",
    "\n",
    "video_final = mpe.concatenate_videoclips([part_1, part_2, part_3])\n",
    "video_final.write_videofile('Frieren_final.mp4')"
   ]
  },
  {
   "cell_type": "markdown",
   "id": "673f13f0",
   "metadata": {},
   "source": [
    "- Teste do vídeo final"
   ]
  },
  {
   "cell_type": "code",
   "execution_count": null,
   "id": "40c6c5a7",
   "metadata": {},
   "outputs": [],
   "source": [
    "video_final.ipython_display(width=480, maxduration=180)"
   ]
  }
 ],
 "metadata": {
  "kernelspec": {
   "display_name": "Python 3",
   "language": "python",
   "name": "python3"
  },
  "language_info": {
   "codemirror_mode": {
    "name": "ipython",
    "version": 3
   },
   "file_extension": ".py",
   "mimetype": "text/x-python",
   "name": "python",
   "nbconvert_exporter": "python",
   "pygments_lexer": "ipython3",
   "version": "3.12.5"
  }
 },
 "nbformat": 4,
 "nbformat_minor": 5
}
